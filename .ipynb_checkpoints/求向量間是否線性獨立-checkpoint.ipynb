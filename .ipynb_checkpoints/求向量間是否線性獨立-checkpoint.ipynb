{
 "cells": [
  {
   "cell_type": "code",
   "execution_count": 2,
   "metadata": {},
   "outputs": [],
   "source": [
    "%matplotlib inline\n",
    "import numpy as np\n",
    "import sympy as sp\n",
    "import matplotlib.pyplot as plt"
   ]
  },
  {
   "cell_type": "markdown",
   "metadata": {},
   "source": [
    "## 判斷某向量是否是給定向量的線性組合:"
   ]
  },
  {
   "cell_type": "markdown",
   "metadata": {},
   "source": [
    "$S = \\{(2, 1, -3), (1, -2, 4)\\}$"
   ]
  },
  {
   "cell_type": "markdown",
   "metadata": {},
   "source": [
    "1. 判斷 (17, -4, 2) 是否在 $span(S)$ 中。\n",
    "2. 判斷 (17, -4, 5) 是否在 $span(S)$ 中。\n",
    "---"
   ]
  },
  {
   "cell_type": "markdown",
   "metadata": {},
   "source": [
    "1. 一開始先用 <font color='red'> 列(row)向量</font>表示(比較好用程式寫出來)。"
   ]
  },
  {
   "cell_type": "code",
   "execution_count": 4,
   "metadata": {},
   "outputs": [],
   "source": [
    "At = sp.Matrix([ [2, 1, -3], [1, -2, 4], [17, -4, 2] ]) # 向量的順需不能更改([2, 1, -3], [1, -2, 4] 一定要在前面(?))"
   ]
  },
  {
   "cell_type": "markdown",
   "metadata": {},
   "source": [
    "2. 再轉成 <font color='red'> 行(column)向量</font>。"
   ]
  },
  {
   "cell_type": "code",
   "execution_count": 6,
   "metadata": {},
   "outputs": [],
   "source": [
    "A = At.transpose()"
   ]
  },
  {
   "cell_type": "code",
   "execution_count": 7,
   "metadata": {},
   "outputs": [
    {
     "data": {
      "text/latex": [
       "$\\displaystyle \\left[\\begin{matrix}2 & 1 & 17\\\\1 & -2 & -4\\\\-3 & 4 & 2\\end{matrix}\\right]$"
      ],
      "text/plain": [
       "Matrix([\n",
       "[ 2,  1, 17],\n",
       "[ 1, -2, -4],\n",
       "[-3,  4,  2]])"
      ]
     },
     "execution_count": 7,
     "metadata": {},
     "output_type": "execute_result"
    }
   ],
   "source": [
    "A"
   ]
  },
  {
   "cell_type": "markdown",
   "metadata": {},
   "source": [
    "3. 在印出 rref 的樣子:"
   ]
  },
  {
   "cell_type": "code",
   "execution_count": 8,
   "metadata": {},
   "outputs": [
    {
     "data": {
      "text/plain": [
       "(Matrix([\n",
       " [1, 0, 6],\n",
       " [0, 1, 5],\n",
       " [0, 0, 0]]),\n",
       " (0, 1))"
      ]
     },
     "execution_count": 8,
     "metadata": {},
     "output_type": "execute_result"
    }
   ],
   "source": [
    "A.rref()"
   ]
  },
  {
   "cell_type": "markdown",
   "metadata": {},
   "source": [
    "```python\n",
    "(Matrix([\n",
    " [1, 0, 6],\n",
    " [0, 1, 5],\n",
    " [0, 0, 0]]),\n",
    " (0, 1))\n",
    "```\n",
    "---\n",
    "這代表在第一行(column)有軸元(大頭)。  \n",
    "第二行也有軸元。  \n",
    "但第三行沒有軸元(因此，第三個向量可以被前面兩個向量生成)。  \n",
    "因此 (17, -4, 2) 屬於 $span(S)$。\n",
    "---\n",
    "最後面的 ```(0, 1)``` 告訴我們哪兩根向量是線性獨立。(第 0 跟 第 1 跟 向量 (用行來算))"
   ]
  },
  {
   "cell_type": "markdown",
   "metadata": {},
   "source": [
    "換另一根向量試，發現每行向量都有軸元(大頭)，因此```(17, -4, 5)``` 不屬於 $span(S)$。"
   ]
  },
  {
   "cell_type": "code",
   "execution_count": 9,
   "metadata": {},
   "outputs": [
    {
     "data": {
      "text/plain": [
       "(Matrix([\n",
       " [1, 0, 0],\n",
       " [0, 1, 0],\n",
       " [0, 0, 1]]),\n",
       " (0, 1, 2))"
      ]
     },
     "execution_count": 9,
     "metadata": {},
     "output_type": "execute_result"
    }
   ],
   "source": [
    "At = sp.Matrix([ [2, 1, -3], [1, -2, 4], [17, -4, 5] ])\n",
    "A = At.transpose()\n",
    "A.rref()"
   ]
  },
  {
   "cell_type": "markdown",
   "metadata": {},
   "source": [
    "$span$ 跟 ```l.i.``` 的關係: 如果兩根向量可以生出($span$)第三根向量，則這三根向量就不是 ```l.i.```(也就是三根向量線性相依)。"
   ]
  },
  {
   "cell_type": "code",
   "execution_count": 12,
   "metadata": {},
   "outputs": [
    {
     "data": {
      "text/latex": [
       "$\\displaystyle \\left[\\begin{matrix}1 & 0 & 0\\\\0 & 1 & 0\\\\0 & 0 & 1\\end{matrix}\\right]$"
      ],
      "text/plain": [
       "Matrix([\n",
       "[1, 0, 0],\n",
       "[0, 1, 0],\n",
       "[0, 0, 1]])"
      ]
     },
     "execution_count": 12,
     "metadata": {},
     "output_type": "execute_result"
    }
   ],
   "source": [
    "A.rref()[0]"
   ]
  },
  {
   "cell_type": "markdown",
   "metadata": {},
   "source": [
    "## 找出某個子空間的基底:"
   ]
  },
  {
   "cell_type": "markdown",
   "metadata": {},
   "source": [
    "設 $V = R 4$，且  \n",
    "$W = span\\{ (1, 1, 3, 2), (1, 1, 0, 1) \\}$"
   ]
  },
  {
   "cell_type": "markdown",
   "metadata": {},
   "source": [
    "因為要變成 $R4$，因此要將原來的 $W$ 擴充:"
   ]
  },
  {
   "cell_type": "code",
   "execution_count": 17,
   "metadata": {},
   "outputs": [],
   "source": [
    "A = sp.Matrix([ [1,1,3,2], [1,1,0,1], [1,0,0,0], [0,1,0,0], [0,0,1,0], [0,0,0,1] ]).transpose()"
   ]
  },
  {
   "cell_type": "markdown",
   "metadata": {},
   "source": [
    "注意： ```[1,1,3,2], [1,1,0,1]```，也就是你原始 $W$ 裡的向量必須要放最前面，因為<font color='red'>放越前面的越容易被選到(?)</font>。"
   ]
  },
  {
   "cell_type": "code",
   "execution_count": 18,
   "metadata": {},
   "outputs": [
    {
     "data": {
      "text/latex": [
       "$\\displaystyle \\left[\\begin{matrix}1 & 1 & 1 & 0 & 0 & 0\\\\1 & 1 & 0 & 1 & 0 & 0\\\\3 & 0 & 0 & 0 & 1 & 0\\\\2 & 1 & 0 & 0 & 0 & 1\\end{matrix}\\right]$"
      ],
      "text/plain": [
       "Matrix([\n",
       "[1, 1, 1, 0, 0, 0],\n",
       "[1, 1, 0, 1, 0, 0],\n",
       "[3, 0, 0, 0, 1, 0],\n",
       "[2, 1, 0, 0, 0, 1]])"
      ]
     },
     "execution_count": 18,
     "metadata": {},
     "output_type": "execute_result"
    }
   ],
   "source": [
    "A"
   ]
  },
  {
   "cell_type": "markdown",
   "metadata": {},
   "source": [
    "接著求 $A$ 的 $rref$:"
   ]
  },
  {
   "cell_type": "code",
   "execution_count": 19,
   "metadata": {},
   "outputs": [
    {
     "data": {
      "text/plain": [
       "(Matrix([\n",
       " [1, 0, 0, 0,  1/3,  0],\n",
       " [0, 1, 0, 0, -2/3,  1],\n",
       " [0, 0, 1, 0,  1/3, -1],\n",
       " [0, 0, 0, 1,  1/3, -1]]),\n",
       " (0, 1, 2, 3))"
      ]
     },
     "execution_count": 19,
     "metadata": {},
     "output_type": "execute_result"
    }
   ],
   "source": [
    "A.rref()"
   ]
  },
  {
   "cell_type": "markdown",
   "metadata": {},
   "source": [
    "```(0, 1, 2, 3)``` 代表第 0,1,2,3 根向量是線性獨立的，因此若要擴充基底成 R4，必須要選這四根。"
   ]
  }
 ],
 "metadata": {
  "kernelspec": {
   "display_name": "Python 3",
   "language": "python",
   "name": "python3"
  },
  "language_info": {
   "codemirror_mode": {
    "name": "ipython",
    "version": 3
   },
   "file_extension": ".py",
   "mimetype": "text/x-python",
   "name": "python",
   "nbconvert_exporter": "python",
   "pygments_lexer": "ipython3",
   "version": "3.7.4"
  }
 },
 "nbformat": 4,
 "nbformat_minor": 4
}
