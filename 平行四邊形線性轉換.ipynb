{
 "cells": [
  {
   "cell_type": "code",
   "execution_count": 13,
   "metadata": {},
   "outputs": [],
   "source": [
    "import matplotlib.pyplot as plt\n",
    "import matplotlib.patches as patches\n",
    "import numpy as np"
   ]
  },
  {
   "cell_type": "code",
   "execution_count": 24,
   "metadata": {},
   "outputs": [],
   "source": [
    "A = np.array([[1, 0.3], [0.8, 0.1]])"
   ]
  },
  {
   "cell_type": "code",
   "execution_count": 25,
   "metadata": {},
   "outputs": [],
   "source": [
    "x = [0.3,0.6,.7,.4]\n",
    "y = [0.4,0.4,0.6,0.6]\n",
    "\n",
    "X = np.array([x, y])"
   ]
  },
  {
   "cell_type": "code",
   "execution_count": 26,
   "metadata": {},
   "outputs": [
    {
     "data": {
      "text/plain": [
       "array([[0.42, 0.72, 0.88, 0.58],\n",
       "       [0.28, 0.52, 0.62, 0.38]])"
      ]
     },
     "execution_count": 26,
     "metadata": {},
     "output_type": "execute_result"
    }
   ],
   "source": [
    "egg = A@X\n",
    "egg"
   ]
  },
  {
   "cell_type": "code",
   "execution_count": 40,
   "metadata": {},
   "outputs": [
    {
     "data": {
      "image/png": "[encoded data removed]",
      "text/plain": [
       "<Figure size 432x288 with 2 Axes>"
      ]
     },
     "metadata": {
      "needs_background": "light"
     },
     "output_type": "display_data"
    }
   ],
   "source": [
    "fig = plt.figure()\n",
    "fig.suptitle(\"Linear transformation of the Parallelogram\", y=0.85)\n",
    "\n",
    "ax0 = fig.add_subplot(121, aspect='equal')\n",
    "\n",
    "x = [0.3,0.6,.7,.4]\n",
    "y = [0.4,0.4,0.6,0.6]\n",
    "\n",
    "ax0.add_patch(patches.Polygon(xy=list(zip(x,y)), fill=False))\n",
    "\n",
    "ax1 = fig.add_subplot(122, aspect='equal')\n",
    "xi = egg[0]\n",
    "yi = egg[1]\n",
    "\n",
    "ax1.add_patch(patches.Polygon(xy=list(zip(xi, yi)), fill=False))\n",
    "\n",
    "fig.savefig(\"Linear transformation of the Parallelogram\")"
   ]
  },
  {
   "cell_type": "markdown",
   "metadata": {},
   "source": [
    "[參考資料](https://stackoverflow.com/questions/43204949/how-to-make-trapezoid-and-parallelogram-in-python-using-matplotlib)"
   ]
  }
 ],
 "metadata": {
  "kernelspec": {
   "display_name": "Python 3",
   "language": "python",
   "name": "python3"
  },
  "language_info": {
   "codemirror_mode": {
    "name": "ipython",
    "version": 3
   },
   "file_extension": ".py",
   "mimetype": "text/x-python",
   "name": "python",
   "nbconvert_exporter": "python",
   "pygments_lexer": "ipython3",
   "version": "3.7.4"
  }
 },
 "nbformat": 4,
 "nbformat_minor": 4
}
