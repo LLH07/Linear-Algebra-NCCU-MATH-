{
 "cells": [
  {
   "cell_type": "markdown",
   "metadata": {},
   "source": [
    "# 1. 計算內積:"
   ]
  },
  {
   "cell_type": "markdown",
   "metadata": {},
   "source": [
    "$<f,\\ g> := \\int_{-\\pi}^{\\pi} f(x)g(x)dx\\$"
   ]
  },
  {
   "cell_type": "markdown",
   "metadata": {},
   "source": [
    "$where\\ f(x) = sin(x),\\ g(x) = cos(x)$"
   ]
  },
  {
   "cell_type": "code",
   "execution_count": 1,
   "metadata": {},
   "outputs": [],
   "source": [
    "import numpy as np"
   ]
  },
  {
   "cell_type": "code",
   "execution_count": 2,
   "metadata": {},
   "outputs": [],
   "source": [
    "import scipy.integrate as integrate\n",
    "import scipy.special as special"
   ]
  },
  {
   "cell_type": "code",
   "execution_count": 3,
   "metadata": {},
   "outputs": [],
   "source": [
    "result = integrate.quad(lambda x: np.sin(x)*np.cos(x), -np.pi, np.pi)"
   ]
  },
  {
   "cell_type": "code",
   "execution_count": 4,
   "metadata": {},
   "outputs": [
    {
     "data": {
      "text/plain": [
       "(0.0, 2.2102770810800183e-14)"
      ]
     },
     "execution_count": 4,
     "metadata": {},
     "output_type": "execute_result"
    }
   ],
   "source": [
    "result # the first term is the result, the second term is the error"
   ]
  },
  {
   "cell_type": "markdown",
   "metadata": {},
   "source": [
    "# 2. Gram-Schmidt procedure:"
   ]
  },
  {
   "cell_type": "markdown",
   "metadata": {},
   "source": [
    "[GS 參考資料](http://moocs.nccu.edu.tw/media/19162#tab-step)  \n",
    "[QR decomposition 參考資料](http://moocs.nccu.edu.tw/media/19163)"
   ]
  },
  {
   "cell_type": "code",
   "execution_count": 9,
   "metadata": {},
   "outputs": [],
   "source": [
    "import numpy.random as rn\n",
    "import numpy.linalg as la"
   ]
  },
  {
   "cell_type": "code",
   "execution_count": 26,
   "metadata": {},
   "outputs": [],
   "source": [
    "def GS(A, tol=10**-15):\n",
    "    m, n = A.shape\n",
    "    Idx = list() # store the\n",
    "    Q = np.mat(np.zeros((m, n))) # store the result matrix\n",
    "    Q[:,0] = A[:,0] / la.norm(A[:,0]) # the first vector of the original basis\n",
    "    for i in range(1, n): # start from the 2nd column till nth column\n",
    "        Q[:,i] = A[:,i].copy()\n",
    "        for j in range(i): # inner product\n",
    "            Q[:,i] = Q[:,i] - Q[:,j] * float(Q[:,j].T * Q[:,i])\n",
    "        if la.norm(Q[:,i]) > tol: # normalize\n",
    "            Q[:,i] = Q[:,i] / la.norm(Q[:,i]) \n",
    "        else:\n",
    "            Idx.append(i)\n",
    "    return Q, Idx"
   ]
  },
  {
   "cell_type": "code",
   "execution_count": 35,
   "metadata": {
    "scrolled": true
   },
   "outputs": [
    {
     "name": "stdout",
     "output_type": "stream",
     "text": [
      "[[-1.20608003  0.89880674  2.09276926]\n",
      " [ 1.45462904  0.80785356  4.37968318]\n",
      " [-1.75439904  0.72610422  9.16566633]\n",
      " [ 2.11594564  0.65262737 19.18162475]\n",
      " [-2.55199979  0.58658588 40.14271465]]\n",
      "(5, 3)\n"
     ]
    }
   ],
   "source": [
    "x = rn.randn(3)\n",
    "A = np.mat([x, x**2, x**3, x**4, x**5])\n",
    "print(A)\n",
    "print(A.shape)"
   ]
  },
  {
   "cell_type": "code",
   "execution_count": 36,
   "metadata": {
    "scrolled": false
   },
   "outputs": [
    {
     "data": {
      "text/plain": [
       "matrix([[-0.28717478,  0.49644677, -0.48315358],\n",
       "        [ 0.34635576,  0.56078365, -0.12655933],\n",
       "        [-0.41773277,  0.36585077, -0.23534973],\n",
       "        [ 0.50381915,  0.49549174,  0.45730232],\n",
       "        [-0.60764622,  0.24434288,  0.69715884]])"
      ]
     },
     "execution_count": 36,
     "metadata": {},
     "output_type": "execute_result"
    }
   ],
   "source": [
    "q, idx = GS(A)\n",
    "q"
   ]
  },
  {
   "cell_type": "markdown",
   "metadata": {},
   "source": [
    "# 3. $P_{U}(sin(x))$"
   ]
  },
  {
   "cell_type": "markdown",
   "metadata": {},
   "source": [
    "$U = span({1, x, x^{2}, x^{3}, x^{4}, x^{5}})$"
   ]
  },
  {
   "cell_type": "code",
   "execution_count": 85,
   "metadata": {},
   "outputs": [],
   "source": [
    "x = rn.randn(5)\n",
    "B = np.mat([x, x**2, x**3, x**4, x**5])"
   ]
  },
  {
   "cell_type": "code",
   "execution_count": 86,
   "metadata": {},
   "outputs": [],
   "source": [
    "q2, idx2 = GS(B)"
   ]
  },
  {
   "cell_type": "code",
   "execution_count": 87,
   "metadata": {},
   "outputs": [
    {
     "data": {
      "image/png": "[encoded data removed]",
      "text/latex": [
       "$\\displaystyle \\left( 5, \\  5\\right)$"
      ],
      "text/plain": [
       "(5, 5)"
      ]
     },
     "execution_count": 87,
     "metadata": {},
     "output_type": "execute_result"
    }
   ],
   "source": [
    "q2.shape"
   ]
  },
  {
   "cell_type": "code",
   "execution_count": 89,
   "metadata": {
    "scrolled": true
   },
   "outputs": [
    {
     "data": {
      "text/plain": [
       "matrix([[-0.02099247],\n",
       "        [-0.16076548],\n",
       "        [ 0.05517341],\n",
       "        [ 0.21959042],\n",
       "        [-0.11417569]])"
      ]
     },
     "execution_count": 89,
     "metadata": {},
     "output_type": "execute_result"
    }
   ],
   "source": [
    "res = np.mat(np.zeros((5, 1)))\n",
    "for i in range(q2.shape[1]): # column of q2\n",
    "    sin = np.sin(x).reshape(1, 5)\n",
    "    res = q2[:,i]*(sin * q2[:,i]) \n",
    "    \n",
    "p_u_sinx = res\n",
    "p_u_sinx"
   ]
  }
 ],
 "metadata": {
  "kernelspec": {
   "display_name": "Python 3",
   "language": "python",
   "name": "python3"
  },
  "language_info": {
   "codemirror_mode": {
    "name": "ipython",
    "version": 3
   },
   "file_extension": ".py",
   "mimetype": "text/x-python",
   "name": "python",
   "nbconvert_exporter": "python",
   "pygments_lexer": "ipython3",
   "version": "3.7.9"
  }
 },
 "nbformat": 4,
 "nbformat_minor": 4
}
